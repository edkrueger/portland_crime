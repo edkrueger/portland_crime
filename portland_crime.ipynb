{
 "cells": [
  {
   "cell_type": "code",
   "execution_count": 1,
   "metadata": {},
   "outputs": [],
   "source": [
    "import pandas as pd\n",
    "import os"
   ]
  },
  {
   "cell_type": "code",
   "execution_count": 2,
   "metadata": {},
   "outputs": [],
   "source": [
    "path = os.path.join(\"Resources\", \"crime_incident_data2017.csv\")"
   ]
  },
  {
   "cell_type": "code",
   "execution_count": 3,
   "metadata": {},
   "outputs": [],
   "source": [
    "df = pd.read_csv(path)\\\n",
    "    .rename(columns=lambda s: s.lower().replace(\" \", \"_\"))\\\n",
    "    [[\n",
    "    'neighborhood',\n",
    "    'occur_date',\n",
    "    'occur_time',\n",
    "    'offense_category',\n",
    "    'offense_count',\n",
    "    'offense_type',\n",
    "    'report_date'\n",
    "]]\\\n",
    "    .dropna()\\\n",
    "    .assign(report_date=lambda df: pd.to_datetime(df['report_date'], format=\"%m/%d/%y\"))\n",
    "\n",
    "occur_datetime = pd.to_datetime(\n",
    "    df[\"occur_date\"] + \":\" + df[\"occur_time\"].astype(\"str\").apply(lambda s: s[:-2] + \":\" + s[-2:]),\n",
    "    format=\"%m/%d/%y:%H:%M\",\n",
    "    errors=\"coerce\"\n",
    ")\n",
    "\n",
    "df = df.assign(occur_datetime=occur_datetime)\\\n",
    "    .drop(\"occur_date\", axis=1)\\\n",
    "    .drop(\"occur_time\", axis=1)"
   ]
  },
  {
   "cell_type": "code",
   "execution_count": 4,
   "metadata": {},
   "outputs": [
    {
     "data": {
      "text/plain": [
       "array(['Motor Vehicle Theft'], dtype=object)"
      ]
     },
     "execution_count": 4,
     "metadata": {},
     "output_type": "execute_result"
    }
   ],
   "source": [
    "df.loc[df['offense_count'] >= 2, \"offense_category\"].unique()"
   ]
  },
  {
   "cell_type": "code",
   "execution_count": 5,
   "metadata": {},
   "outputs": [
    {
     "data": {
      "text/plain": [
       "neighborhood                object\n",
       "offense_category            object\n",
       "offense_count                int64\n",
       "offense_type                object\n",
       "report_date         datetime64[ns]\n",
       "occur_datetime      datetime64[ns]\n",
       "dtype: object"
      ]
     },
     "execution_count": 5,
     "metadata": {},
     "output_type": "execute_result"
    }
   ],
   "source": [
    "df.dtypes"
   ]
  }
 ],
 "metadata": {
  "kernelspec": {
   "display_name": "portland_crime",
   "language": "python",
   "name": "portland_crime"
  },
  "language_info": {
   "codemirror_mode": {
    "name": "ipython",
    "version": 3
   },
   "file_extension": ".py",
   "mimetype": "text/x-python",
   "name": "python",
   "nbconvert_exporter": "python",
   "pygments_lexer": "ipython3",
   "version": "3.7.5"
  }
 },
 "nbformat": 4,
 "nbformat_minor": 4
}
