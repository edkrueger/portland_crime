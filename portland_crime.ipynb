{
 "cells": [
  {
   "cell_type": "markdown",
   "metadata": {},
   "source": [
    "# Portland Crime"
   ]
  },
  {
   "cell_type": "markdown",
   "metadata": {},
   "source": [
    "## Import packages and load and clean data"
   ]
  },
  {
   "cell_type": "code",
   "execution_count": 1,
   "metadata": {},
   "outputs": [],
   "source": [
    "import pandas as pd\n",
    "import os"
   ]
  },
  {
   "cell_type": "code",
   "execution_count": 2,
   "metadata": {},
   "outputs": [],
   "source": [
    "path = os.path.join(\"Resources\", \"crime_incident_data2017.csv\")"
   ]
  },
  {
   "cell_type": "code",
   "execution_count": 3,
   "metadata": {},
   "outputs": [],
   "source": [
    "df = pd.read_csv(path)\\\n",
    "    .rename(columns=lambda s: s.lower().replace(\" \", \"_\"))\\\n",
    "    [[\n",
    "    'neighborhood',\n",
    "    'occur_date',\n",
    "    'occur_time',\n",
    "    'offense_category',\n",
    "    'offense_count',\n",
    "    'offense_type',\n",
    "    'report_date'\n",
    "]]\\\n",
    "    .dropna()\\\n",
    "    .assign(report_date=lambda df: pd.to_datetime(df['report_date'], format=\"%m/%d/%y\"))\n",
    "\n",
    "occur_datetime = pd.to_datetime(\n",
    "    df[\"occur_date\"] + \":\" + df[\"occur_time\"].astype(\"str\").apply(lambda s: s[:-2] + \":\" + s[-2:]),\n",
    "    format=\"%m/%d/%y:%H:%M\",\n",
    "    errors=\"coerce\"\n",
    ")\n",
    "\n",
    "df = df.assign(occur_datetime=occur_datetime)\\\n",
    "    .drop(\"occur_date\", axis=1)\\\n",
    "    .drop(\"occur_time\", axis=1)\\\n",
    "    .dropna()"
   ]
  },
  {
   "cell_type": "code",
   "execution_count": 4,
   "metadata": {},
   "outputs": [
    {
     "data": {
      "text/plain": [
       "array(['Motor Vehicle Theft'], dtype=object)"
      ]
     },
     "execution_count": 4,
     "metadata": {},
     "output_type": "execute_result"
    }
   ],
   "source": [
    "df.loc[df['offense_count'] >= 2, \"offense_category\"].unique()"
   ]
  },
  {
   "cell_type": "code",
   "execution_count": 5,
   "metadata": {},
   "outputs": [
    {
     "data": {
      "text/plain": [
       "neighborhood                object\n",
       "offense_category            object\n",
       "offense_count                int64\n",
       "offense_type                object\n",
       "report_date         datetime64[ns]\n",
       "occur_datetime      datetime64[ns]\n",
       "dtype: object"
      ]
     },
     "execution_count": 5,
     "metadata": {},
     "output_type": "execute_result"
    }
   ],
   "source": [
    "df.dtypes"
   ]
  },
  {
   "cell_type": "markdown",
   "metadata": {},
   "source": [
    "## Analysis"
   ]
  },
  {
   "cell_type": "code",
   "execution_count": 6,
   "metadata": {},
   "outputs": [
    {
     "data": {
      "text/html": [
       "<div>\n",
       "<style scoped>\n",
       "    .dataframe tbody tr th:only-of-type {\n",
       "        vertical-align: middle;\n",
       "    }\n",
       "\n",
       "    .dataframe tbody tr th {\n",
       "        vertical-align: top;\n",
       "    }\n",
       "\n",
       "    .dataframe thead th {\n",
       "        text-align: right;\n",
       "    }\n",
       "</style>\n",
       "<table border=\"1\" class=\"dataframe\">\n",
       "  <thead>\n",
       "    <tr style=\"text-align: right;\">\n",
       "      <th></th>\n",
       "      <th>neighborhood</th>\n",
       "      <th>offense_category</th>\n",
       "      <th>offense_count</th>\n",
       "      <th>offense_type</th>\n",
       "      <th>report_date</th>\n",
       "      <th>occur_datetime</th>\n",
       "    </tr>\n",
       "  </thead>\n",
       "  <tbody>\n",
       "    <tr>\n",
       "      <th>1</th>\n",
       "      <td>Centennial</td>\n",
       "      <td>Fraud Offenses</td>\n",
       "      <td>1</td>\n",
       "      <td>Identity Theft</td>\n",
       "      <td>2017-01-20</td>\n",
       "      <td>2000-01-20 16:15:00</td>\n",
       "    </tr>\n",
       "    <tr>\n",
       "      <th>2</th>\n",
       "      <td>Montavilla</td>\n",
       "      <td>Fraud Offenses</td>\n",
       "      <td>1</td>\n",
       "      <td>False Pretenses/Swindle/Confidence Game</td>\n",
       "      <td>2017-01-09</td>\n",
       "      <td>2003-12-01 08:00:00</td>\n",
       "    </tr>\n",
       "    <tr>\n",
       "      <th>5</th>\n",
       "      <td>King</td>\n",
       "      <td>Fraud Offenses</td>\n",
       "      <td>1</td>\n",
       "      <td>Identity Theft</td>\n",
       "      <td>2017-01-03</td>\n",
       "      <td>2010-11-28 16:12:00</td>\n",
       "    </tr>\n",
       "    <tr>\n",
       "      <th>6</th>\n",
       "      <td>Vernon</td>\n",
       "      <td>Fraud Offenses</td>\n",
       "      <td>1</td>\n",
       "      <td>False Pretenses/Swindle/Confidence Game</td>\n",
       "      <td>2017-01-26</td>\n",
       "      <td>2013-11-08 12:00:00</td>\n",
       "    </tr>\n",
       "    <tr>\n",
       "      <th>7</th>\n",
       "      <td>Vernon</td>\n",
       "      <td>Fraud Offenses</td>\n",
       "      <td>1</td>\n",
       "      <td>Identity Theft</td>\n",
       "      <td>2017-01-26</td>\n",
       "      <td>2013-11-08 12:00:00</td>\n",
       "    </tr>\n",
       "  </tbody>\n",
       "</table>\n",
       "</div>"
      ],
      "text/plain": [
       "  neighborhood offense_category  offense_count  \\\n",
       "1   Centennial   Fraud Offenses              1   \n",
       "2   Montavilla   Fraud Offenses              1   \n",
       "5         King   Fraud Offenses              1   \n",
       "6       Vernon   Fraud Offenses              1   \n",
       "7       Vernon   Fraud Offenses              1   \n",
       "\n",
       "                              offense_type report_date      occur_datetime  \n",
       "1                           Identity Theft  2017-01-20 2000-01-20 16:15:00  \n",
       "2  False Pretenses/Swindle/Confidence Game  2017-01-09 2003-12-01 08:00:00  \n",
       "5                           Identity Theft  2017-01-03 2010-11-28 16:12:00  \n",
       "6  False Pretenses/Swindle/Confidence Game  2017-01-26 2013-11-08 12:00:00  \n",
       "7                           Identity Theft  2017-01-26 2013-11-08 12:00:00  "
      ]
     },
     "execution_count": 6,
     "metadata": {},
     "output_type": "execute_result"
    }
   ],
   "source": [
    "df.head()"
   ]
  },
  {
   "cell_type": "markdown",
   "metadata": {},
   "source": [
    "Most Crime Neighborhoods (by incident)"
   ]
  },
  {
   "cell_type": "code",
   "execution_count": 7,
   "metadata": {},
   "outputs": [],
   "source": [
    "neighborhood_crime_count = df[\"neighborhood\"].value_counts()"
   ]
  },
  {
   "cell_type": "code",
   "execution_count": 8,
   "metadata": {},
   "outputs": [
    {
     "data": {
      "text/plain": [
       "Downtown               2650\n",
       "Hazelwood              2484\n",
       "Lents                  1422\n",
       "Powellhurst-Gilbert    1355\n",
       "Old Town/Chinatown     1242\n",
       "Centennial             1181\n",
       "Northwest              1095\n",
       "Montavilla              993\n",
       "Pearl                   972\n",
       "Lloyd                   920\n",
       "Name: neighborhood, dtype: int64"
      ]
     },
     "execution_count": 8,
     "metadata": {},
     "output_type": "execute_result"
    }
   ],
   "source": [
    "neighborhood_crime_count.head(10)"
   ]
  },
  {
   "cell_type": "code",
   "execution_count": 9,
   "metadata": {},
   "outputs": [
    {
     "data": {
      "text/plain": [
       "Marshall Park         5\n",
       "Healy Heights         5\n",
       "Crestwood             6\n",
       "Woodland Park        19\n",
       "Arnold Creek         21\n",
       "South Burlingame     23\n",
       "Markham              24\n",
       "Northwest Heights    25\n",
       "Hillside             29\n",
       "Ardenwald            32\n",
       "Name: neighborhood, dtype: int64"
      ]
     },
     "execution_count": 9,
     "metadata": {},
     "output_type": "execute_result"
    }
   ],
   "source": [
    "neighborhood_crime_count.tail(10).sort_values(ascending=True)"
   ]
  },
  {
   "cell_type": "markdown",
   "metadata": {},
   "source": [
    "Most Crime Neighborhoods (offense_count)"
   ]
  },
  {
   "cell_type": "code",
   "execution_count": 10,
   "metadata": {},
   "outputs": [],
   "source": [
    "vehicle_df = df[df[\"offense_type\"]==\"Motor Vehicle Theft\"]"
   ]
  },
  {
   "cell_type": "code",
   "execution_count": 11,
   "metadata": {},
   "outputs": [
    {
     "data": {
      "text/plain": [
       "Hazelwood              329\n",
       "Lents                  240\n",
       "Powellhurst-Gilbert    194\n",
       "Centennial             187\n",
       "Montavilla             157\n",
       "                      ... \n",
       "Far Southwest            1\n",
       "Crestwood                1\n",
       "Northwest Heights        1\n",
       "Maplewood                1\n",
       "Woodland Park            1\n",
       "Name: neighborhood, Length: 90, dtype: int64"
      ]
     },
     "execution_count": 11,
     "metadata": {},
     "output_type": "execute_result"
    }
   ],
   "source": [
    "vehicle_df[\"neighborhood\"].value_counts()"
   ]
  },
  {
   "cell_type": "code",
   "execution_count": 12,
   "metadata": {},
   "outputs": [
    {
     "data": {
      "text/plain": [
       "neighborhood\n",
       "Hazelwood              331\n",
       "Lents                  240\n",
       "Powellhurst-Gilbert    197\n",
       "Centennial             188\n",
       "Montavilla             158\n",
       "                      ... \n",
       "Maplewood                1\n",
       "Northwest Heights        1\n",
       "Woodland Park            1\n",
       "Crestwood                1\n",
       "Far Southwest            1\n",
       "Name: offense_count, Length: 90, dtype: int64"
      ]
     },
     "execution_count": 12,
     "metadata": {},
     "output_type": "execute_result"
    }
   ],
   "source": [
    "vehicle_df.groupby(\"neighborhood\")[\"offense_count\"].sum().sort_values(ascending=False)"
   ]
  },
  {
   "cell_type": "markdown",
   "metadata": {},
   "source": [
    "Most Crime Hour (by offense_count)"
   ]
  },
  {
   "cell_type": "code",
   "execution_count": 13,
   "metadata": {},
   "outputs": [
    {
     "data": {
      "text/plain": [
       "occur_datetime\n",
       "1979-09-14       1\n",
       "1979-09-21       0\n",
       "1979-09-28       0\n",
       "1979-10-05       0\n",
       "1979-10-12       0\n",
       "              ... \n",
       "2017-07-28    1042\n",
       "2017-08-04    1043\n",
       "2017-08-11    1003\n",
       "2017-08-18    1015\n",
       "2017-08-25     954\n",
       "Freq: 5B, Name: offense_count, Length: 1981, dtype: int64"
      ]
     },
     "execution_count": 13,
     "metadata": {},
     "output_type": "execute_result"
    }
   ],
   "source": [
    "df.groupby(pd.Grouper(key=\"occur_datetime\", freq=\"5B\"))[\"offense_count\"].sum()"
   ]
  },
  {
   "cell_type": "code",
   "execution_count": 14,
   "metadata": {},
   "outputs": [
    {
     "data": {
      "text/plain": [
       "occur_datetime\n",
       "1     1300\n",
       "2     1123\n",
       "3      909\n",
       "4      772\n",
       "5      717\n",
       "6      781\n",
       "7     1089\n",
       "8     1578\n",
       "9     1439\n",
       "10    1450\n",
       "11    1473\n",
       "12    2366\n",
       "13    1622\n",
       "14    1676\n",
       "15    1855\n",
       "16    1933\n",
       "17    2267\n",
       "18    2259\n",
       "19    2114\n",
       "20    2126\n",
       "21    2106\n",
       "22    2328\n",
       "23    1947\n",
       "Name: offense_count, dtype: int64"
      ]
     },
     "execution_count": 14,
     "metadata": {},
     "output_type": "execute_result"
    }
   ],
   "source": [
    "df.groupby(df[\"occur_datetime\"].dt.hour)[\"offense_count\"].sum()"
   ]
  }
 ],
 "metadata": {
  "kernelspec": {
   "display_name": "portland_crime",
   "language": "python",
   "name": "portland_crime"
  },
  "language_info": {
   "codemirror_mode": {
    "name": "ipython",
    "version": 3
   },
   "file_extension": ".py",
   "mimetype": "text/x-python",
   "name": "python",
   "nbconvert_exporter": "python",
   "pygments_lexer": "ipython3",
   "version": "3.7.5"
  }
 },
 "nbformat": 4,
 "nbformat_minor": 4
}
